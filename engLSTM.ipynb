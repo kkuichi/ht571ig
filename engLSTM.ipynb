{
 "cells": [
  {
   "cell_type": "code",
   "id": "initial_id",
   "metadata": {
    "collapsed": true,
    "ExecuteTime": {
     "end_time": "2025-05-15T22:26:57.470764Z",
     "start_time": "2025-05-15T22:26:35.279191Z"
    }
   },
   "source": [
    "\n",
    "path = 'jigsaw-toxic-comment-classification-challenge/train.csv'\n",
    "import pandas as pd\n",
    "\n",
    "df = pd.read_csv(path)\n",
    "\n",
    "\n",
    "df.head(10)\n",
    "\n",
    "\n",
    "#!pip list\n",
    "\n",
    "\n",
    "from tensorflow.keras.layers import TextVectorization\n",
    "\n",
    "X = df['comment_text'].astype(str)\n",
    "y = df[df.columns[2:]].values\n",
    "\n",
    "MAX_FEATURES = 10000\n",
    "SEQUENCE_LENGTH = 1000\n",
    "vectorizer = TextVectorization(\n",
    "    max_tokens=MAX_FEATURES,\n",
    "    output_mode='int',\n",
    "    output_sequence_length=SEQUENCE_LENGTH\n",
    ")\n",
    "vectorizer.adapt(X.values)\n",
    "vectorized_text = vectorizer(X.values)"
   ],
   "outputs": [
    {
     "name": "stdout",
     "output_type": "stream",
     "text": [
      "Package                      Version\n",
      "---------------------------- --------------\n",
      "absl-py                      2.1.0\n",
      "aiohappyeyeballs             2.4.4\n",
      "aiohttp                      3.11.10\n",
      "aiosignal                    1.2.0\n",
      "anyio                        4.9.0\n",
      "argon2-cffi                  23.1.0\n",
      "argon2-cffi-bindings         21.2.0\n",
      "arrow                        1.3.0\n",
      "asttokens                    3.0.0\n",
      "astunparse                   1.6.3\n",
      "async-lru                    2.0.5\n",
      "async-timeout                5.0.1\n",
      "attrs                        24.3.0\n",
      "babel                        2.17.0\n",
      "beautifulsoup4               4.13.4\n",
      "bleach                       6.2.0\n",
      "blinker                      1.9.0\n",
      "Bottleneck                   1.4.2\n",
      "Brotli                       1.0.9\n",
      "cachetools                   5.5.1\n",
      "certifi                      2025.4.26\n",
      "cffi                         1.17.1\n",
      "charset-normalizer           3.3.2\n",
      "click                        8.1.8\n",
      "colorama                     0.4.6\n",
      "comm                         0.2.2\n",
      "contourpy                    1.3.1\n",
      "cryptography                 41.0.3\n",
      "cycler                       0.11.0\n",
      "debugpy                      1.8.14\n",
      "decorator                    5.2.1\n",
      "defusedxml                   0.7.1\n",
      "exceptiongroup               1.3.0\n",
      "executing                    2.2.0\n",
      "fastjsonschema               2.21.1\n",
      "flatbuffers                  24.3.25\n",
      "fonttools                    4.55.3\n",
      "fqdn                         1.5.1\n",
      "frozenlist                   1.5.0\n",
      "gast                         0.4.0\n",
      "google-auth                  2.38.0\n",
      "google-auth-oauthlib         0.4.4\n",
      "google-pasta                 0.2.0\n",
      "grpcio                       1.48.2\n",
      "h11                          0.16.0\n",
      "h5py                         3.12.1\n",
      "httpcore                     1.0.9\n",
      "httpx                        0.28.1\n",
      "idna                         3.10\n",
      "ipykernel                    6.29.5\n",
      "ipython                      8.36.0\n",
      "isoduration                  20.11.0\n",
      "jedi                         0.19.2\n",
      "Jinja2                       3.1.6\n",
      "joblib                       1.4.2\n",
      "json5                        0.12.0\n",
      "jsonpointer                  3.0.0\n",
      "jsonschema                   4.23.0\n",
      "jsonschema-specifications    2025.4.1\n",
      "jupyter_client               8.6.3\n",
      "jupyter_core                 5.7.2\n",
      "jupyter-events               0.12.0\n",
      "jupyter-lsp                  2.2.5\n",
      "jupyter_server               2.16.0\n",
      "jupyter_server_terminals     0.5.3\n",
      "jupyterlab                   4.4.2\n",
      "jupyterlab_pygments          0.3.0\n",
      "jupyterlab_server            2.27.3\n",
      "keras                        2.10.0\n",
      "Keras-Preprocessing          1.1.2\n",
      "kiwisolver                   1.4.8\n",
      "libclang                     18.1.1\n",
      "Markdown                     3.8\n",
      "MarkupSafe                   3.0.2\n",
      "matplotlib                   3.10.0\n",
      "matplotlib-inline            0.1.7\n",
      "mistune                      3.1.3\n",
      "mkl_fft                      1.3.11\n",
      "mkl_random                   1.2.8\n",
      "mkl-service                  2.4.0\n",
      "multidict                    6.1.0\n",
      "nbclient                     0.10.2\n",
      "nbconvert                    7.16.6\n",
      "nbformat                     5.10.4\n",
      "nest-asyncio                 1.6.0\n",
      "notebook                     7.4.2\n",
      "notebook_shim                0.2.4\n",
      "numexpr                      2.10.1\n",
      "numpy                        1.26.4\n",
      "oauthlib                     3.2.2\n",
      "opt-einsum                   3.3.0\n",
      "overrides                    7.7.0\n",
      "packaging                    24.2\n",
      "pandas                       2.2.3\n",
      "pandocfilters                1.5.1\n",
      "parso                        0.8.4\n",
      "pillow                       11.1.0\n",
      "pip                          25.1\n",
      "platformdirs                 4.3.8\n",
      "ply                          3.11\n",
      "prometheus_client            0.21.1\n",
      "prompt_toolkit               3.0.51\n",
      "propcache                    0.3.1\n",
      "protobuf                     3.19.6\n",
      "psutil                       7.0.0\n",
      "pure_eval                    0.2.3\n",
      "pyasn1                       0.4.8\n",
      "pyasn1-modules               0.2.8\n",
      "pycparser                    2.21\n",
      "Pygments                     2.19.1\n",
      "PyJWT                        2.10.1\n",
      "pyOpenSSL                    23.2.0\n",
      "pyparsing                    3.2.0\n",
      "PyQt5                        5.15.10\n",
      "PyQt5_sip                    12.13.0\n",
      "PySocks                      1.7.1\n",
      "python-dateutil              2.9.0.post0\n",
      "python-json-logger           3.3.0\n",
      "pytz                         2024.1\n",
      "pywin32                      310\n",
      "pywinpty                     2.0.15\n",
      "PyYAML                       6.0.2\n",
      "pyzmq                        26.4.0\n",
      "referencing                  0.36.2\n",
      "requests                     2.32.3\n",
      "requests-oauthlib            2.0.0\n",
      "rfc3339-validator            0.1.4\n",
      "rfc3986-validator            0.1.1\n",
      "rpds-py                      0.24.0\n",
      "rsa                          4.7.2\n",
      "scikit-learn                 1.6.1\n",
      "scipy                        1.15.2\n",
      "seaborn                      0.13.2\n",
      "Send2Trash                   1.8.3\n",
      "setuptools                   78.1.1\n",
      "sip                          6.7.12\n",
      "six                          1.17.0\n",
      "sniffio                      1.3.1\n",
      "soupsieve                    2.7\n",
      "stack-data                   0.6.3\n",
      "tensorboard                  2.10.0\n",
      "tensorboard-data-server      0.6.1\n",
      "tensorboard-plugin-wit       1.8.1\n",
      "tensorflow                   2.10.0\n",
      "tensorflow-estimator         2.10.0\n",
      "tensorflow-io-gcs-filesystem 0.31.0\n",
      "termcolor                    2.1.0\n",
      "terminado                    0.18.1\n",
      "threadpoolctl                3.5.0\n",
      "tinycss2                     1.4.0\n",
      "tomli                        2.0.1\n",
      "tornado                      6.4.2\n",
      "traitlets                    5.14.3\n",
      "types-python-dateutil        2.9.0.20241206\n",
      "typing_extensions            4.12.2\n",
      "tzdata                       2025.2\n",
      "unicodedata2                 15.1.0\n",
      "uri-template                 1.3.0\n",
      "urllib3                      2.3.0\n",
      "wcwidth                      0.2.13\n",
      "webcolors                    24.11.1\n",
      "webencodings                 0.5.1\n",
      "websocket-client             1.8.0\n",
      "Werkzeug                     3.1.3\n",
      "wheel                        0.45.1\n",
      "win-inet-pton                1.1.0\n",
      "wrapt                        1.17.0\n",
      "yarl                         1.18.0\n"
     ]
    }
   ],
   "execution_count": 13
  },
  {
   "metadata": {
    "ExecuteTime": {
     "end_time": "2025-05-15T22:26:57.502032Z",
     "start_time": "2025-05-15T22:26:57.486363Z"
    }
   },
   "cell_type": "code",
   "source": [
    "import os\n",
    "import tensorflow as tf\n",
    "\n",
    "\n",
    "# os.environ['CUDA_HOME'] = '/usr/local/cuda'\n",
    "# os.environ['LD_LIBRARY_PATH'] = '/usr/local/cuda/lib64'\n",
    "\n",
    "# Вывести список доступных GPU\n",
    "gpus = tf.config.experimental.list_physical_devices('GPU')\n",
    "print(\"Available GPUs:\", gpus)\n",
    "\n",
    "if gpus:\n",
    "    try:\n",
    "\n",
    "        tf.config.experimental.set_memory_growth(gpus[0], True)\n",
    "        logical_gpus = tf.config.experimental.list_logical_devices('GPU')\n",
    "        print(f\"{len(gpus)} Physical GPUs, {len(logical_gpus)} Logical GPUs configured.\")\n",
    "    except RuntimeError as e:\n",
    "\n",
    "        print(\"Error setting up GPU memory growth:\", e)\n",
    "else:\n",
    "    print(\"GPU devices not found, running on CPU.\")\n"
   ],
   "id": "eb6dcbc9071ed95d",
   "outputs": [
    {
     "name": "stdout",
     "output_type": "stream",
     "text": [
      "Available GPUs: [PhysicalDevice(name='/physical_device:GPU:0', device_type='GPU')]\n",
      "Error setting up GPU memory growth: Physical devices cannot be modified after being initialized\n"
     ]
    }
   ],
   "execution_count": 14
  },
  {
   "metadata": {
    "ExecuteTime": {
     "end_time": "2025-05-15T22:27:16.127776Z",
     "start_time": "2025-05-15T22:26:57.568910Z"
    }
   },
   "cell_type": "code",
   "source": [
    "\n",
    "import tensorflow as tf\n",
    "from tensorflow.keras import mixed_precision\n",
    "\n",
    "\n",
    "mixed_precision.set_global_policy('mixed_float16')\n",
    "\n",
    "\n",
    "path = 'jigsaw-toxic-comment-classification-challenge/train.csv'\n",
    "import pandas as pd\n",
    "\n",
    "df = pd.read_csv(path)\n",
    "\n",
    "\n",
    "from tensorflow.keras.layers import TextVectorization\n",
    "\n",
    "X = df['comment_text'].astype(str)\n",
    "y = df[df.columns[2:]].values\n",
    "\n",
    "\n",
    "MAX_FEATURES = 5000  # (before 10000)\n",
    "SEQUENCE_LENGTH = 500  # (before 1000)\n",
    "vectorizer = TextVectorization(\n",
    "    max_tokens=MAX_FEATURES,\n",
    "    output_mode='int',\n",
    "    output_sequence_length=SEQUENCE_LENGTH\n",
    ")\n",
    "vectorizer.adapt(X.values)"
   ],
   "id": "efcf50e2ab384b0c",
   "outputs": [],
   "execution_count": 15
  },
  {
   "metadata": {
    "ExecuteTime": {
     "end_time": "2025-05-15T22:27:16.609661Z",
     "start_time": "2025-05-15T22:27:16.136044Z"
    }
   },
   "cell_type": "code",
   "source": [
    "\n",
    "BATCH_SIZE = 32  # увеличение батча ускоряет обучение на GPU\n",
    "\n",
    "dataset = tf.data.Dataset.from_tensor_slices((X.values, y))\n",
    "dataset = dataset.shuffle(buffer_size=60000)\n",
    "dataset = dataset.map(\n",
    "    lambda text, label: (vectorizer(text), label),\n",
    "    num_parallel_calls=tf.data.AUTOTUNE\n",
    ")\n",
    "dataset = dataset.batch(BATCH_SIZE)\n",
    "dataset = dataset.prefetch(tf.data.AUTOTUNE)\n",
    "\n",
    "# Разбиение на train/val/test\n",
    "data_size = tf.data.experimental.cardinality(dataset).numpy()\n",
    "train_size = int(0.7 * data_size)\n",
    "val_size = int(0.2 * data_size)\n",
    "\n",
    "train = dataset.take(train_size)\n",
    "val = dataset.skip(train_size).take(val_size)\n",
    "test = dataset.skip(train_size + val_size)"
   ],
   "id": "2090a151d0b6cfb8",
   "outputs": [],
   "execution_count": 16
  },
  {
   "metadata": {
    "ExecuteTime": {
     "end_time": "2025-05-15T22:27:17.341802Z",
     "start_time": "2025-05-15T22:27:16.645661Z"
    }
   },
   "cell_type": "code",
   "source": [
    "from tensorflow.keras.models import Sequential\n",
    "from tensorflow.keras.layers import Embedding, Bidirectional, LSTM, Dense, Dropout\n",
    "from tensorflow.keras.optimizers import Adam\n",
    "from tensorflow.keras.callbacks import EarlyStopping, ReduceLROnPlateau, ModelCheckpoint\n",
    "\n",
    "model = Sequential([\n",
    "    Embedding(input_dim=MAX_FEATURES + 1, output_dim=32, input_length=SEQUENCE_LENGTH),\n",
    "\n",
    "    Bidirectional(LSTM(32)),\n",
    "    Dropout(0.3),\n",
    "    Dense(128, activation='relu'),\n",
    "    Dropout(0.3),\n",
    "    Dense(6, activation='sigmoid')\n",
    "])\n",
    "\n",
    "model.compile(\n",
    "    loss='binary_crossentropy',\n",
    "    optimizer=Adam(learning_rate=2e-4),\n",
    "    metrics=['accuracy']\n",
    ")\n",
    "model.summary()\n",
    "\n",
    "\n",
    "early_stop = EarlyStopping(monitor='val_loss', patience=2, restore_best_weights=True)\n",
    "reduce_lr = ReduceLROnPlateau(monitor='val_loss', factor=0.5, patience=1)\n",
    "checkpoint = ModelCheckpoint('best_toxic_lstm_jigsaw_fast.h5', monitor='val_loss', save_best_only=True)"
   ],
   "id": "7524603f7f6ff5dc",
   "outputs": [
    {
     "name": "stdout",
     "output_type": "stream",
     "text": [
      "Model: \"sequential_1\"\n",
      "_________________________________________________________________\n",
      " Layer (type)                Output Shape              Param #   \n",
      "=================================================================\n",
      " embedding_1 (Embedding)     (None, 500, 32)           160032    \n",
      "                                                                 \n",
      " bidirectional_1 (Bidirectio  (None, 64)               16640     \n",
      " nal)                                                            \n",
      "                                                                 \n",
      " dropout_2 (Dropout)         (None, 64)                0         \n",
      "                                                                 \n",
      " dense_2 (Dense)             (None, 128)               8320      \n",
      "                                                                 \n",
      " dropout_3 (Dropout)         (None, 128)               0         \n",
      "                                                                 \n",
      " dense_3 (Dense)             (None, 6)                 774       \n",
      "                                                                 \n",
      "=================================================================\n",
      "Total params: 185,766\n",
      "Trainable params: 185,766\n",
      "Non-trainable params: 0\n",
      "_________________________________________________________________\n"
     ]
    }
   ],
   "execution_count": 17
  },
  {
   "metadata": {
    "ExecuteTime": {
     "end_time": "2025-05-15T23:22:51.537016Z",
     "start_time": "2025-05-15T22:27:17.485498Z"
    }
   },
   "cell_type": "code",
   "source": [
    "# 5. Обучение модели\n",
    "EPOCHS = 10\n",
    "history = model.fit(\n",
    "    train,\n",
    "    epochs=EPOCHS,\n",
    "    validation_data=val,\n",
    "    callbacks=[early_stop, reduce_lr, checkpoint]\n",
    ")\n"
   ],
   "id": "e1b1dc44a9b75f66",
   "outputs": [
    {
     "name": "stdout",
     "output_type": "stream",
     "text": [
      "Epoch 1/10\n",
      "3490/3490 [==============================] - 348s 98ms/step - loss: 0.1028 - accuracy: 0.8129 - val_loss: 0.0597 - val_accuracy: 0.9938 - lr: 2.0000e-04\n",
      "Epoch 2/10\n",
      "3490/3490 [==============================] - 528s 151ms/step - loss: 0.0581 - accuracy: 0.9740 - val_loss: 0.0518 - val_accuracy: 0.9943 - lr: 2.0000e-04\n",
      "Epoch 3/10\n",
      "3490/3490 [==============================] - 295s 84ms/step - loss: 0.0529 - accuracy: 0.9884 - val_loss: 0.0505 - val_accuracy: 0.9944 - lr: 2.0000e-04\n",
      "Epoch 4/10\n",
      "3490/3490 [==============================] - 326s 94ms/step - loss: 0.0515 - accuracy: 0.9897 - val_loss: 0.0482 - val_accuracy: 0.9938 - lr: 2.0000e-04\n",
      "Epoch 5/10\n",
      "3490/3490 [==============================] - 340s 97ms/step - loss: 0.0505 - accuracy: 0.9897 - val_loss: 0.0474 - val_accuracy: 0.9940 - lr: 2.0000e-04\n",
      "Epoch 6/10\n",
      "3490/3490 [==============================] - 320s 92ms/step - loss: 0.0498 - accuracy: 0.9892 - val_loss: 0.0460 - val_accuracy: 0.9941 - lr: 2.0000e-04\n",
      "Epoch 7/10\n",
      "3490/3490 [==============================] - 304s 87ms/step - loss: 0.0489 - accuracy: 0.9895 - val_loss: 0.0479 - val_accuracy: 0.9945 - lr: 2.0000e-04\n",
      "Epoch 8/10\n",
      "3490/3490 [==============================] - 287s 82ms/step - loss: 0.0473 - accuracy: 0.9891 - val_loss: 0.0460 - val_accuracy: 0.9943 - lr: 1.0000e-04\n",
      "Epoch 9/10\n",
      "3490/3490 [==============================] - 283s 81ms/step - loss: 0.0467 - accuracy: 0.9891 - val_loss: 0.0468 - val_accuracy: 0.9940 - lr: 5.0000e-05\n",
      "Epoch 10/10\n",
      "3490/3490 [==============================] - 302s 86ms/step - loss: 0.0460 - accuracy: 0.9869 - val_loss: 0.0455 - val_accuracy: 0.9943 - lr: 2.5000e-05\n"
     ]
    }
   ],
   "execution_count": 18
  },
  {
   "metadata": {
    "ExecuteTime": {
     "end_time": "2025-05-15T23:23:19.959286Z",
     "start_time": "2025-05-15T23:22:51.720625Z"
    }
   },
   "cell_type": "code",
   "source": [
    "# 7. Оценка на тестовом наборе\n",
    "model.load_weights('best_toxic_lstm_jigsaw_fast.h5')\n",
    "test_loss, test_acc = model.evaluate(test)\n",
    "print(f\"Test Loss: {test_loss:.4f}, Test Accuracy: {test_acc:.4f}\")"
   ],
   "id": "6a2f72d263d2d651",
   "outputs": [
    {
     "name": "stdout",
     "output_type": "stream",
     "text": [
      "500/500 [==============================] - 28s 43ms/step - loss: 0.0468 - accuracy: 0.9940\n",
      "Test Loss: 0.0468, Test Accuracy: 0.9940\n"
     ]
    }
   ],
   "execution_count": 19
  },
  {
   "metadata": {
    "ExecuteTime": {
     "end_time": "2025-05-15T23:23:20.334751Z",
     "start_time": "2025-05-15T23:23:19.970327Z"
    }
   },
   "cell_type": "code",
   "source": [
    "# 8. Визуализация метрик\n",
    "import matplotlib.pyplot as plt\n",
    "plt.plot(history.history['accuracy'], label='train_acc')\n",
    "plt.plot(history.history['val_accuracy'], label='val_acc')\n",
    "plt.title('Accuracy')\n",
    "plt.legend(); plt.show()\n",
    "\n",
    "plt.plot(history.history['loss'], label='train_loss')\n",
    "plt.plot(history.history['val_loss'], label='val_loss')\n",
    "plt.title('Loss')\n",
    "plt.legend(); plt.show()"
   ],
   "id": "f6116e7cc988504e",
   "outputs": [
    {
     "data": {
      "text/plain": [
       "<Figure size 640x480 with 1 Axes>"
      ],
      "image/png": "[encoded data removed]"
     },
     "metadata": {},
     "output_type": "display_data"
    },
    {
     "data": {
      "text/plain": [
       "<Figure size 640x480 with 1 Axes>"
      ],
      "image/png": "[encoded data removed]"
     },
     "metadata": {},
     "output_type": "display_data"
    }
   ],
   "execution_count": 20
  }
 ],
 "metadata": {
  "kernelspec": {
   "display_name": "Python 3",
   "language": "python",
   "name": "python3"
  },
  "language_info": {
   "codemirror_mode": {
    "name": "ipython",
    "version": 2
   },
   "file_extension": ".py",
   "mimetype": "text/x-python",
   "name": "python",
   "nbconvert_exporter": "python",
   "pygments_lexer": "ipython2",
   "version": "2.7.6"
  }
 },
 "nbformat": 4,
 "nbformat_minor": 5
}
